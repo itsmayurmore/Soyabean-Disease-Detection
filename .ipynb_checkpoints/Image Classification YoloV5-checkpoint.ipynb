{
 "cells": [
  {
   "cell_type": "code",
   "execution_count": 1,
   "id": "a3b5b33a",
   "metadata": {},
   "outputs": [
    {
     "name": "stderr",
     "output_type": "stream",
     "text": [
      "C:\\Users\\Admin\\AppData\\Local\\Programs\\Python\\Python37\\lib\\site-packages\\tqdm\\auto.py:21: TqdmWarning: IProgress not found. Please update jupyter and ipywidgets. See https://ipywidgets.readthedocs.io/en/stable/user_install.html\n",
      "  from .autonotebook import tqdm as notebook_tqdm\n"
     ]
    }
   ],
   "source": [
    "import torch\n",
    "import numpy as np\n",
    "import matplotlib.pyplot as plt"
   ]
  },
  {
   "cell_type": "code",
   "execution_count": 2,
   "id": "7cc4f8fb",
   "metadata": {},
   "outputs": [],
   "source": [
    "import os\n",
    "os.environ[\"GIT_PYTHON_REFRESH\"] = \"quiet\"\n",
    "import git"
   ]
  },
  {
   "cell_type": "code",
   "execution_count": null,
   "id": "be64d1fb",
   "metadata": {},
   "outputs": [],
   "source": [
    "!cd yolov5 && python train.py --img 640 --batch 1 --epochs 60 --data dataset.yaml --weights yolov5m.pt --workers 4"
   ]
  },
  {
   "cell_type": "code",
   "execution_count": null,
   "id": "da79eaaa",
   "metadata": {
    "scrolled": true
   },
   "outputs": [],
   "source": [
    "model = torch.hub.load('ultralytics/yolov5','custom',path='C:/Users/Admin/Desktop/Leaf Project/yolov5/runs/train/exp3/weights/best.pt',force_reload=True)"
   ]
  },
  {
   "cell_type": "code",
   "execution_count": null,
   "id": "b20d6a4a",
   "metadata": {},
   "outputs": [],
   "source": [
    "img = '4.jpg'\n",
    "result = model(img)\n",
    "result.print()"
   ]
  },
  {
   "cell_type": "code",
   "execution_count": null,
   "id": "79bc5df4",
   "metadata": {},
   "outputs": [],
   "source": [
    "%matplotlib inline\n",
    "plt.imshow(np.squeeze(result.render()))\n",
    "plt.show()"
   ]
  },
  {
   "cell_type": "code",
   "execution_count": null,
   "id": "76fe7a7d",
   "metadata": {},
   "outputs": [],
   "source": []
  }
 ],
 "metadata": {
  "kernelspec": {
   "display_name": "Python 3 (ipykernel)",
   "language": "python",
   "name": "python3"
  },
  "language_info": {
   "codemirror_mode": {
    "name": "ipython",
    "version": 3
   },
   "file_extension": ".py",
   "mimetype": "text/x-python",
   "name": "python",
   "nbconvert_exporter": "python",
   "pygments_lexer": "ipython3",
   "version": "3.7.9"
  }
 },
 "nbformat": 4,
 "nbformat_minor": 5
}
